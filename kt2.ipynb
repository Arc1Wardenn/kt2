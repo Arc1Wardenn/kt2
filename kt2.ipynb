{
  "nbformat": 4,
  "nbformat_minor": 0,
  "metadata": {
    "colab": {
      "provenance": [],
      "authorship_tag": "ABX9TyP8YaMnnAYidKNEVQLK2JAX",
      "include_colab_link": true
    },
    "kernelspec": {
      "name": "python3",
      "display_name": "Python 3"
    },
    "language_info": {
      "name": "python"
    }
  },
  "cells": [
    {
      "cell_type": "markdown",
      "metadata": {
        "id": "view-in-github",
        "colab_type": "text"
      },
      "source": [
        "<a href=\"https://colab.research.google.com/github/Arc1Wardenn/kt2/blob/main/kt2.ipynb\" target=\"_parent\"><img src=\"https://colab.research.google.com/assets/colab-badge.svg\" alt=\"Open In Colab\"/></a>"
      ]
    },
    {
      "cell_type": "code",
      "execution_count": null,
      "metadata": {
        "id": "FfTf2t56Mqxb"
      },
      "outputs": [],
      "source": []
    },
    {
      "cell_type": "markdown",
      "source": [],
      "metadata": {
        "id": "zaX0o4j7NJuY"
      }
    },
    {
      "cell_type": "markdown",
      "source": [
        "<b>С помощью моего сайта можно ознакомиться с данными о КУЛЬТУРЕ из Открытого портала данных Правительства Москвы</b>\n",
        "<ul>На сайте есть:\n",
        "<li>Витрина данных</li>\n",
        "<li>Таблицы</li>\n",
        "<li>Картинки</li>\n",
        "<li>Форматировние данных</li>\n",
        "</ul>\n",
        "<b>Ссылка на сайт - https://sites.google.com/view/konoltochka2/ </b>"
      ],
      "metadata": {
        "id": "2r0uBhtNMwkY"
      }
    },
    {
      "cell_type": "code",
      "source": [],
      "metadata": {
        "id": "EPAuI0XaM-5B"
      },
      "execution_count": null,
      "outputs": []
    },
    {
      "cell_type": "markdown",
      "source": [],
      "metadata": {
        "id": "7GwIYWNxNBIg"
      }
    }
  ]
}